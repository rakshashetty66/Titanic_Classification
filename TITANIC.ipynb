{
 "cells": [
  {
   "cell_type": "code",
   "execution_count": 1,
   "id": "3efecf92-5720-455a-9ff5-8ae2e85f6106",
   "metadata": {},
   "outputs": [],
   "source": [
    "# Import libraries\n",
    "import pandas as pd\n",
    "import numpy as np\n",
    "from sklearn.model_selection import train_test_split, cross_val_score\n",
    "from sklearn.ensemble import RandomForestClassifier\n",
    "from sklearn.linear_model import LogisticRegression\n",
    "from sklearn.tree import DecisionTreeClassifier\n",
    "from sklearn.svm import SVC\n",
    "from sklearn.neighbors import KNeighborsClassifier\n",
    "from sklearn.preprocessing import LabelEncoder\n",
    "from sklearn.metrics import accuracy_score, classification_report, confusion_matrix\n",
    "from sklearn.preprocessing import StandardScaler"
   ]
  },
  {
   "cell_type": "code",
   "execution_count": 2,
   "id": "efa2a1f5-821e-4130-a52c-f9b068b09cd7",
   "metadata": {},
   "outputs": [],
   "source": [
    "# Load the dataset\n",
    "data = pd.read_csv('Titanic-Dataset.csv')"
   ]
  },
  {
   "cell_type": "code",
   "execution_count": 3,
   "id": "23607a19-092f-4263-a9f5-06ce4187d65d",
   "metadata": {},
   "outputs": [],
   "source": [
    "# Data Preprocessing\n",
    "\n",
    "# Fill missing values\n",
    "data['Age'].fillna(data['Age'].median(), inplace=True)\n",
    "data['Embarked'].fillna(data['Embarked'].mode()[0], inplace=True)\n",
    "data['Fare'].fillna(data['Fare'].median(), inplace=True)\n"
   ]
  },
  {
   "cell_type": "code",
   "execution_count": 4,
   "id": "1812183d-8464-49c7-9036-e65d8788243d",
   "metadata": {},
   "outputs": [],
   "source": [
    "# Feature Engineering\n",
    "# Create FamilySize feature\n",
    "data['FamilySize'] = data['SibSp'] + data['Parch']\n",
    "\n",
    "# Extract titles from names\n",
    "data['Title'] = data['Name'].str.extract(' ([A-Za-z]+)\\.', expand=False)\n",
    "data['Title'] = data['Title'].replace(['Lady', 'Countess', 'Capt', 'Col', 'Don', 'Dr', \n",
    "                                       'Major', 'Rev', 'Sir', 'Jonkheer', 'Dona'], 'Rare')\n",
    "data['Title'] = data['Title'].replace(['Mlle', 'Ms'], 'Miss')\n",
    "data['Title'] = data['Title'].replace('Mme', 'Mrs')"
   ]
  },
  {
   "cell_type": "code",
   "execution_count": 5,
   "id": "32e693d5-02b5-4e8a-a81c-28ec04fc3aea",
   "metadata": {},
   "outputs": [],
   "source": [
    "# Map categorical features to numerical values\n",
    "data['Sex'] = data['Sex'].map({'male': 0, 'female': 1})\n",
    "data['Embarked'] = data['Embarked'].map({'S': 0, 'C': 1, 'Q': 2})\n",
    "title_encoder = LabelEncoder()\n",
    "data['Title'] = title_encoder.fit_transform(data['Title'])"
   ]
  },
  {
   "cell_type": "code",
   "execution_count": 6,
   "id": "f2857e5b-aebd-46a8-b0b4-056cacd3ac06",
   "metadata": {},
   "outputs": [],
   "source": [
    "# Select relevant features\n",
    "features = ['Pclass', 'Sex', 'Age', 'Fare', 'Embarked', 'FamilySize', 'Title']\n",
    "X = data[features]\n",
    "y = data['Survived']"
   ]
  },
  {
   "cell_type": "code",
   "execution_count": 7,
   "id": "e786614a-8383-47f1-adbb-35d9124e3015",
   "metadata": {},
   "outputs": [],
   "source": [
    "# Standardize the data for models sensitive to feature scales (e.g., SVM)\n",
    "scaler = StandardScaler()\n",
    "X = scaler.fit_transform(X)"
   ]
  },
  {
   "cell_type": "code",
   "execution_count": 8,
   "id": "6cfb991d-bf9b-477e-8808-c083c7381a8f",
   "metadata": {},
   "outputs": [],
   "source": [
    "# Split the dataset\n",
    "X_train, X_test, y_train, y_test = train_test_split(X, y, test_size=0.2, random_state=42)"
   ]
  },
  {
   "cell_type": "code",
   "execution_count": 9,
   "id": "71ef63cd-449a-4c30-ad2d-270b03d19259",
   "metadata": {},
   "outputs": [],
   "source": [
    "# Model Selection: Instantiate multiple models\n",
    "models = {\n",
    "    'Logistic Regression': LogisticRegression(),\n",
    "    'Random Forest': RandomForestClassifier(n_estimators=100, random_state=42),\n",
    "    'Decision Tree': DecisionTreeClassifier(random_state=42),\n",
    "    'Support Vector Machine': SVC(),\n",
    "    'K-Nearest Neighbors': KNeighborsClassifier(n_neighbors=5)\n",
    "}"
   ]
  },
  {
   "cell_type": "code",
   "execution_count": 10,
   "id": "df727cc7-2f05-48d2-a57f-5d0941e7c3ed",
   "metadata": {},
   "outputs": [
    {
     "name": "stdout",
     "output_type": "stream",
     "text": [
      "Model: Logistic Regression\n",
      "Accuracy: 0.8044692737430168\n",
      "Classification Report:\n",
      "               precision    recall  f1-score   support\n",
      "\n",
      "           0       0.82      0.86      0.84       105\n",
      "           1       0.78      0.73      0.76        74\n",
      "\n",
      "    accuracy                           0.80       179\n",
      "   macro avg       0.80      0.79      0.80       179\n",
      "weighted avg       0.80      0.80      0.80       179\n",
      "\n",
      "Confusion Matrix:\n",
      " [[90 15]\n",
      " [20 54]]\n",
      "Cross-validation Accuracy: 0.7912497646098802\n",
      "\n",
      "==================================================\n",
      "\n",
      "Model: Random Forest\n",
      "Accuracy: 0.8324022346368715\n",
      "Classification Report:\n",
      "               precision    recall  f1-score   support\n",
      "\n",
      "           0       0.86      0.86      0.86       105\n",
      "           1       0.80      0.80      0.80        74\n",
      "\n",
      "    accuracy                           0.83       179\n",
      "   macro avg       0.83      0.83      0.83       179\n",
      "weighted avg       0.83      0.83      0.83       179\n",
      "\n",
      "Confusion Matrix:\n",
      " [[90 15]\n",
      " [15 59]]\n",
      "Cross-validation Accuracy: 0.8148138848785387\n",
      "\n",
      "==================================================\n",
      "\n",
      "Model: Decision Tree\n",
      "Accuracy: 0.7932960893854749\n",
      "Classification Report:\n",
      "               precision    recall  f1-score   support\n",
      "\n",
      "           0       0.83      0.82      0.82       105\n",
      "           1       0.75      0.76      0.75        74\n",
      "\n",
      "    accuracy                           0.79       179\n",
      "   macro avg       0.79      0.79      0.79       179\n",
      "weighted avg       0.79      0.79      0.79       179\n",
      "\n",
      "Confusion Matrix:\n",
      " [[86 19]\n",
      " [18 56]]\n",
      "Cross-validation Accuracy: 0.7811625133387734\n",
      "\n",
      "==================================================\n",
      "\n",
      "Model: Support Vector Machine\n",
      "Accuracy: 0.8212290502793296\n",
      "Classification Report:\n",
      "               precision    recall  f1-score   support\n",
      "\n",
      "           0       0.82      0.89      0.85       105\n",
      "           1       0.82      0.73      0.77        74\n",
      "\n",
      "    accuracy                           0.82       179\n",
      "   macro avg       0.82      0.81      0.81       179\n",
      "weighted avg       0.82      0.82      0.82       179\n",
      "\n",
      "Confusion Matrix:\n",
      " [[93 12]\n",
      " [20 54]]\n",
      "Cross-validation Accuracy: 0.8338899001945892\n",
      "\n",
      "==================================================\n",
      "\n",
      "Model: K-Nearest Neighbors\n",
      "Accuracy: 0.8044692737430168\n",
      "Classification Report:\n",
      "               precision    recall  f1-score   support\n",
      "\n",
      "           0       0.84      0.82      0.83       105\n",
      "           1       0.75      0.78      0.77        74\n",
      "\n",
      "    accuracy                           0.80       179\n",
      "   macro avg       0.80      0.80      0.80       179\n",
      "weighted avg       0.81      0.80      0.80       179\n",
      "\n",
      "Confusion Matrix:\n",
      " [[86 19]\n",
      " [16 58]]\n",
      "Cross-validation Accuracy: 0.813709120582512\n",
      "\n",
      "==================================================\n",
      "\n"
     ]
    }
   ],
   "source": [
    "# Training and evaluating each model\n",
    "for model_name, model in models.items():\n",
    "    model.fit(X_train, y_train)\n",
    "    y_pred = model.predict(X_test)\n",
    "    \n",
    "    # Evaluation\n",
    "    print(f\"Model: {model_name}\")\n",
    "    print(\"Accuracy:\", accuracy_score(y_test, y_pred))\n",
    "    print(\"Classification Report:\\n\", classification_report(y_test, y_pred))\n",
    "    print(\"Confusion Matrix:\\n\", confusion_matrix(y_test, y_pred))\n",
    "    \n",
    "    # Cross-validation\n",
    "    cv_scores = cross_val_score(model, X, y, cv=5)\n",
    "    print(\"Cross-validation Accuracy:\", np.mean(cv_scores))\n",
    "    print(\"\\n\" + \"=\"*50 + \"\\n\")"
   ]
  },
  {
   "cell_type": "code",
   "execution_count": 11,
   "id": "92464b7e-00ae-4ba5-af14-d3b69bd1757a",
   "metadata": {},
   "outputs": [
    {
     "name": "stdout",
     "output_type": "stream",
     "text": [
      "Feature Importances from Random Forest Model:\n",
      "      Feature  Importance\n",
      "3        Fare    0.264621\n",
      "2         Age    0.229320\n",
      "1         Sex    0.207376\n",
      "6       Title    0.106375\n",
      "5  FamilySize    0.081183\n",
      "0      Pclass    0.079296\n",
      "4    Embarked    0.031829\n",
      "\n",
      "Insights on Factors Most Likely to Lead to Survival:\n",
      "1. Gender: Females were more likely to survive.\n",
      "2. Class: Higher classes (1st and 2nd) had a better chance of survival.\n",
      "3. Age: Younger passengers, especially children, had a higher survival rate.\n",
      "4. Family Size: Moderate family sizes showed better survival likelihood due to support.\n"
     ]
    }
   ],
   "source": [
    "# Feature Importance Analysis using Random Forest\n",
    "importances = models['Random Forest'].feature_importances_\n",
    "feature_importances = pd.DataFrame({'Feature': features, 'Importance': importances}).sort_values(by='Importance', ascending=False)\n",
    "\n",
    "print(\"Feature Importances from Random Forest Model:\")\n",
    "print(feature_importances)\n",
    "\n",
    "# Insights\n",
    "print(\"\\nInsights on Factors Most Likely to Lead to Survival:\")\n",
    "print(\"1. Gender: Females were more likely to survive.\")\n",
    "print(\"2. Class: Higher classes (1st and 2nd) had a better chance of survival.\")\n",
    "print(\"3. Age: Younger passengers, especially children, had a higher survival rate.\")\n",
    "print(\"4. Family Size: Moderate family sizes showed better survival likelihood due to support.\")\n"
   ]
  },
  {
   "cell_type": "code",
   "execution_count": null,
   "id": "24c85dd7-0537-4926-996f-146b60429614",
   "metadata": {},
   "outputs": [],
   "source": []
  }
 ],
 "metadata": {
  "kernelspec": {
   "display_name": "Python 3 (ipykernel)",
   "language": "python",
   "name": "python3"
  },
  "language_info": {
   "codemirror_mode": {
    "name": "ipython",
    "version": 3
   },
   "file_extension": ".py",
   "mimetype": "text/x-python",
   "name": "python",
   "nbconvert_exporter": "python",
   "pygments_lexer": "ipython3",
   "version": "3.11.7"
  }
 },
 "nbformat": 4,
 "nbformat_minor": 5
}
